{
 "cells": [
  {
   "cell_type": "code",
   "execution_count": 1,
   "metadata": {},
   "outputs": [],
   "source": [
    "import numpy as np\n",
    "import matplotlib.pyplot as plt\n",
    "import pandas as pd\n"
   ]
  },
  {
   "cell_type": "code",
   "execution_count": 60,
   "metadata": {},
   "outputs": [
    {
     "output_type": "execute_result",
     "data": {
      "text/plain": "         Date   Symbol Series  Prev Close   Open   High    Low  Last  Close  \\\n0  2000-01-03  UTIBANK     EQ       24.70  26.70  26.70  26.70  26.7  26.70   \n1  2000-01-04  UTIBANK     EQ       26.70  27.00  28.70  26.50  27.0  26.85   \n2  2000-01-05  UTIBANK     EQ       26.85  26.00  27.75  25.50  26.4  26.30   \n3  2000-01-06  UTIBANK     EQ       26.30  25.80  27.00  25.80  25.9  25.95   \n4  2000-01-07  UTIBANK     EQ       25.95  25.00  26.00  24.25  25.0  24.80   \n5  2000-01-10  UTIBANK     EQ       24.80  25.05  26.50  25.00  25.0  25.00   \n6  2000-01-11  UTIBANK     EQ       25.00  24.25  24.80  23.00  23.0  23.20   \n7  2000-01-12  UTIBANK     EQ       23.20  22.60  24.50  22.60  24.0  24.00   \n8  2000-01-13  UTIBANK     EQ       24.00  24.50  24.50  23.10  23.8  23.60   \n9  2000-01-14  UTIBANK     EQ       23.60  24.00  24.20  22.50  23.5  23.25   \n\n    VWAP  Volume      Turnover  Trades  Deliverable Volume  %Deliverble  \n0  26.70  112100  2.993070e+11     NaN                 NaN          NaN  \n1  27.24  234500  6.387275e+11     NaN                 NaN          NaN  \n2  26.24  170100  4.462980e+11     NaN                 NaN          NaN  \n3  26.27  102100  2.681730e+11     NaN                 NaN          NaN  \n4  25.04   62600  1.567220e+11     NaN                 NaN          NaN  \n5  25.29   64200  1.623340e+11     NaN                 NaN          NaN  \n6  23.90   91700  2.191725e+11     NaN                 NaN          NaN  \n7  23.97   32500  7.791350e+10     NaN                 NaN          NaN  \n8  23.77   48300  1.147955e+11     NaN                 NaN          NaN  \n9  23.17   30700  7.114250e+10     NaN                 NaN          NaN  ",
      "text/html": "<div>\n<style scoped>\n    .dataframe tbody tr th:only-of-type {\n        vertical-align: middle;\n    }\n\n    .dataframe tbody tr th {\n        vertical-align: top;\n    }\n\n    .dataframe thead th {\n        text-align: right;\n    }\n</style>\n<table border=\"1\" class=\"dataframe\">\n  <thead>\n    <tr style=\"text-align: right;\">\n      <th></th>\n      <th>Date</th>\n      <th>Symbol</th>\n      <th>Series</th>\n      <th>Prev Close</th>\n      <th>Open</th>\n      <th>High</th>\n      <th>Low</th>\n      <th>Last</th>\n      <th>Close</th>\n      <th>VWAP</th>\n      <th>Volume</th>\n      <th>Turnover</th>\n      <th>Trades</th>\n      <th>Deliverable Volume</th>\n      <th>%Deliverble</th>\n    </tr>\n  </thead>\n  <tbody>\n    <tr>\n      <th>0</th>\n      <td>2000-01-03</td>\n      <td>UTIBANK</td>\n      <td>EQ</td>\n      <td>24.70</td>\n      <td>26.70</td>\n      <td>26.70</td>\n      <td>26.70</td>\n      <td>26.7</td>\n      <td>26.70</td>\n      <td>26.70</td>\n      <td>112100</td>\n      <td>2.993070e+11</td>\n      <td>NaN</td>\n      <td>NaN</td>\n      <td>NaN</td>\n    </tr>\n    <tr>\n      <th>1</th>\n      <td>2000-01-04</td>\n      <td>UTIBANK</td>\n      <td>EQ</td>\n      <td>26.70</td>\n      <td>27.00</td>\n      <td>28.70</td>\n      <td>26.50</td>\n      <td>27.0</td>\n      <td>26.85</td>\n      <td>27.24</td>\n      <td>234500</td>\n      <td>6.387275e+11</td>\n      <td>NaN</td>\n      <td>NaN</td>\n      <td>NaN</td>\n    </tr>\n    <tr>\n      <th>2</th>\n      <td>2000-01-05</td>\n      <td>UTIBANK</td>\n      <td>EQ</td>\n      <td>26.85</td>\n      <td>26.00</td>\n      <td>27.75</td>\n      <td>25.50</td>\n      <td>26.4</td>\n      <td>26.30</td>\n      <td>26.24</td>\n      <td>170100</td>\n      <td>4.462980e+11</td>\n      <td>NaN</td>\n      <td>NaN</td>\n      <td>NaN</td>\n    </tr>\n    <tr>\n      <th>3</th>\n      <td>2000-01-06</td>\n      <td>UTIBANK</td>\n      <td>EQ</td>\n      <td>26.30</td>\n      <td>25.80</td>\n      <td>27.00</td>\n      <td>25.80</td>\n      <td>25.9</td>\n      <td>25.95</td>\n      <td>26.27</td>\n      <td>102100</td>\n      <td>2.681730e+11</td>\n      <td>NaN</td>\n      <td>NaN</td>\n      <td>NaN</td>\n    </tr>\n    <tr>\n      <th>4</th>\n      <td>2000-01-07</td>\n      <td>UTIBANK</td>\n      <td>EQ</td>\n      <td>25.95</td>\n      <td>25.00</td>\n      <td>26.00</td>\n      <td>24.25</td>\n      <td>25.0</td>\n      <td>24.80</td>\n      <td>25.04</td>\n      <td>62600</td>\n      <td>1.567220e+11</td>\n      <td>NaN</td>\n      <td>NaN</td>\n      <td>NaN</td>\n    </tr>\n    <tr>\n      <th>5</th>\n      <td>2000-01-10</td>\n      <td>UTIBANK</td>\n      <td>EQ</td>\n      <td>24.80</td>\n      <td>25.05</td>\n      <td>26.50</td>\n      <td>25.00</td>\n      <td>25.0</td>\n      <td>25.00</td>\n      <td>25.29</td>\n      <td>64200</td>\n      <td>1.623340e+11</td>\n      <td>NaN</td>\n      <td>NaN</td>\n      <td>NaN</td>\n    </tr>\n    <tr>\n      <th>6</th>\n      <td>2000-01-11</td>\n      <td>UTIBANK</td>\n      <td>EQ</td>\n      <td>25.00</td>\n      <td>24.25</td>\n      <td>24.80</td>\n      <td>23.00</td>\n      <td>23.0</td>\n      <td>23.20</td>\n      <td>23.90</td>\n      <td>91700</td>\n      <td>2.191725e+11</td>\n      <td>NaN</td>\n      <td>NaN</td>\n      <td>NaN</td>\n    </tr>\n    <tr>\n      <th>7</th>\n      <td>2000-01-12</td>\n      <td>UTIBANK</td>\n      <td>EQ</td>\n      <td>23.20</td>\n      <td>22.60</td>\n      <td>24.50</td>\n      <td>22.60</td>\n      <td>24.0</td>\n      <td>24.00</td>\n      <td>23.97</td>\n      <td>32500</td>\n      <td>7.791350e+10</td>\n      <td>NaN</td>\n      <td>NaN</td>\n      <td>NaN</td>\n    </tr>\n    <tr>\n      <th>8</th>\n      <td>2000-01-13</td>\n      <td>UTIBANK</td>\n      <td>EQ</td>\n      <td>24.00</td>\n      <td>24.50</td>\n      <td>24.50</td>\n      <td>23.10</td>\n      <td>23.8</td>\n      <td>23.60</td>\n      <td>23.77</td>\n      <td>48300</td>\n      <td>1.147955e+11</td>\n      <td>NaN</td>\n      <td>NaN</td>\n      <td>NaN</td>\n    </tr>\n    <tr>\n      <th>9</th>\n      <td>2000-01-14</td>\n      <td>UTIBANK</td>\n      <td>EQ</td>\n      <td>23.60</td>\n      <td>24.00</td>\n      <td>24.20</td>\n      <td>22.50</td>\n      <td>23.5</td>\n      <td>23.25</td>\n      <td>23.17</td>\n      <td>30700</td>\n      <td>7.114250e+10</td>\n      <td>NaN</td>\n      <td>NaN</td>\n      <td>NaN</td>\n    </tr>\n  </tbody>\n</table>\n</div>"
     },
     "metadata": {},
     "execution_count": 60
    }
   ],
   "source": [
    "data = pd.read_csv(\"./Dataset/BanksDataset/AXISBANK.csv\")\n",
    "data.head(10)"
   ]
  },
  {
   "cell_type": "code",
   "execution_count": 61,
   "metadata": {
    "tags": []
   },
   "outputs": [],
   "source": [
    "data = data.drop([\"Series\",\"Trades\",\"Deliverable Volume\",\"%Deliverble\", \"Turnover\"], axis= 1)"
   ]
  },
  {
   "cell_type": "code",
   "execution_count": 43,
   "metadata": {
    "tags": []
   },
   "outputs": [
    {
     "output_type": "stream",
     "name": "stdout",
     "text": "Date    Symbol  Prev Close   Open    High     Low   Last   Close  \\\n0     2000-01-03   UTIBANK       24.70   26.7   26.70   26.70   26.7   26.70   \n1     2000-01-04   UTIBANK       26.70   27.0   28.70   26.50   27.0   26.85   \n2     2000-01-05   UTIBANK       26.85   26.0   27.75   25.50   26.4   26.30   \n3     2000-01-06   UTIBANK       26.30   25.8   27.00   25.80   25.9   25.95   \n4     2000-01-07   UTIBANK       25.95   25.0   26.00   24.25   25.0   24.80   \n...          ...       ...         ...    ...     ...     ...    ...     ...   \n5092  2020-06-24  AXISBANK      443.65  448.0  448.50  422.20  425.4  424.65   \n5093  2020-06-25  AXISBANK      424.65  419.0  428.70  410.35  418.9  421.70   \n5094  2020-06-26  AXISBANK      421.70  426.0  428.75  418.00  426.0  424.85   \n5095  2020-06-29  AXISBANK      424.85  415.0  415.80  402.35  404.9  404.80   \n5096  2020-06-30  AXISBANK      404.80  410.0  414.80  404.05  407.3  406.65   \n\n        VWAP    Volume      Turnover  \n0      26.70    112100  2.993070e+11  \n1      27.24    234500  6.387275e+11  \n2      26.24    170100  4.462980e+11  \n3      26.27    102100  2.681730e+11  \n4      25.04     62600  1.567220e+11  \n...      ...       ...           ...  \n5092  435.17  33577340  1.461173e+15  \n5093  420.13  49854504  2.094542e+15  \n5094  422.80  32611425  1.378815e+15  \n5095  406.79  36320111  1.477448e+15  \n5096  409.15  26951992  1.102744e+15  \n\n[5097 rows x 11 columns]\n"
    }
   ],
   "source": [
    "print(data)\n",
    "value = data.values "
   ]
  },
  {
   "cell_type": "code",
   "execution_count": 87,
   "metadata": {},
   "outputs": [],
   "source": [
    "X = value[:, 2:7]\n",
    "X_ = value[:,8:]\n",
    "y = value[:, 7]\n",
    "x = np.concatenate((X,X_), axis = 1)"
   ]
  },
  {
   "cell_type": "code",
   "execution_count": 88,
   "metadata": {
    "tags": []
   },
   "outputs": [
    {
     "output_type": "stream",
     "name": "stdout",
     "text": "[26.7 26.85 26.3 ... 424.85 404.8 406.65]\n[[24.7 26.7 26.7 ... 26.7 112100 299307000000.0]\n [26.7 27.0 28.7 ... 27.24 234500 638727500000.0]\n [26.85 26.0 27.75 ... 26.24 170100 446298000000.0]\n ...\n [421.7 426.0 428.75 ... 422.8 32611425 1378814835820000.0]\n [424.85 415.0 415.8 ... 406.79 36320111 1477447751155000.0]\n [404.8 410.0 414.8 ... 409.15 26951992 1102743626475000.0]]\n"
    }
   ],
   "source": []
  },
  {
   "cell_type": "code",
   "execution_count": 89,
   "metadata": {},
   "outputs": [],
   "source": [
    "from sklearn.model_selection import train_test_split"
   ]
  },
  {
   "cell_type": "code",
   "execution_count": 103,
   "metadata": {
    "tags": []
   },
   "outputs": [
    {
     "output_type": "stream",
     "name": "stdout",
     "text": "2548\n"
    }
   ],
   "source": [
    " X_train, X_test, y_train, y_test = train_test_split(x, y, test_size=0.5,)\n",
    " print(len(y_train))"
   ]
  },
  {
   "cell_type": "code",
   "execution_count": 107,
   "metadata": {
    "tags": []
   },
   "outputs": [
    {
     "output_type": "execute_result",
     "data": {
      "text/plain": "[<matplotlib.lines.Line2D at 0x2b92b208d48>]"
     },
     "metadata": {},
     "execution_count": 107
    }
   ],
   "source": [
    "plt.figure(figsize=(500,500))\n",
    "plt.plot(y_train, label='Close Price history')"
   ]
  },
  {
   "cell_type": "code",
   "execution_count": 100,
   "metadata": {
    "tags": []
   },
   "outputs": [
    {
     "output_type": "stream",
     "name": "stdout",
     "text": "(2548, 9)\n"
    }
   ],
   "source": [
    "ones = np.ones((X_train.shape[0],1))\n",
    "X_train = np.hstack((ones,X_train))\n",
    "print(X_train.shape)"
   ]
  },
  {
   "cell_type": "code",
   "execution_count": 98,
   "metadata": {},
   "outputs": [],
   "source": [
    "def hypothesis(X,theta):\n",
    "    return np.dot(X,theta)\n",
    "\n",
    "def error(X,y,theta):\n",
    "    m = X.shape[0]\n",
    "    y_ = hypothesis(X,theta)\n",
    "    e = np.sum((y - y_)**2)\n",
    "    return e/m\n",
    "\n",
    "\n",
    "def gradient(X,y,theta):\n",
    "    m = X.shape[0]\n",
    "    y_ = hypothesis(X,theta)\n",
    "    grad = np.dot(X.T,(y_ - y))            \n",
    "    return grad/m\n",
    "\n",
    "def gradientDescent(X,y,learning_rate = 0.1, max_epoch = 300):\n",
    "    n = X.shape[1]\n",
    "    theta = np.zeros((n,))\n",
    "    error_list = []\n",
    "    for i in range(max_epoch):\n",
    "        e = error(X,y,theta)\n",
    "        error_list.append(e)\n",
    "        grad = gradient(X,y,theta)\n",
    "        theta = theta - learning_rate*grad\n",
    "            \n",
    "    return theta,error_list"
   ]
  },
  {
   "cell_type": "code",
   "execution_count": 99,
   "metadata": {},
   "outputs": [
    {
     "output_type": "error",
     "ename": "OverflowError",
     "evalue": "(34, 'Result too large')",
     "traceback": [
      "\u001b[1;31m---------------------------------------------------------------------------\u001b[0m",
      "\u001b[1;31mOverflowError\u001b[0m                             Traceback (most recent call last)",
      "\u001b[1;32m<ipython-input-99-6e9671194ef0>\u001b[0m in \u001b[0;36m<module>\u001b[1;34m\u001b[0m\n\u001b[1;32m----> 1\u001b[1;33m \u001b[0mtheta\u001b[0m\u001b[1;33m,\u001b[0m \u001b[0merror_list\u001b[0m \u001b[1;33m=\u001b[0m \u001b[0mgradientDescent\u001b[0m\u001b[1;33m(\u001b[0m\u001b[0mX_train\u001b[0m\u001b[1;33m,\u001b[0m\u001b[0my_train\u001b[0m\u001b[1;33m)\u001b[0m\u001b[1;33m\u001b[0m\u001b[1;33m\u001b[0m\u001b[0m\n\u001b[0m\u001b[0;32m      2\u001b[0m \u001b[0mtheta\u001b[0m\u001b[1;33m\u001b[0m\u001b[1;33m\u001b[0m\u001b[0m\n",
      "\u001b[1;32m<ipython-input-98-0603fd39a387>\u001b[0m in \u001b[0;36mgradientDescent\u001b[1;34m(X, y, learning_rate, max_epoch)\u001b[0m\n\u001b[0;32m     20\u001b[0m     \u001b[0merror_list\u001b[0m \u001b[1;33m=\u001b[0m \u001b[1;33m[\u001b[0m\u001b[1;33m]\u001b[0m\u001b[1;33m\u001b[0m\u001b[1;33m\u001b[0m\u001b[0m\n\u001b[0;32m     21\u001b[0m     \u001b[1;32mfor\u001b[0m \u001b[0mi\u001b[0m \u001b[1;32min\u001b[0m \u001b[0mrange\u001b[0m\u001b[1;33m(\u001b[0m\u001b[0mmax_epoch\u001b[0m\u001b[1;33m)\u001b[0m\u001b[1;33m:\u001b[0m\u001b[1;33m\u001b[0m\u001b[1;33m\u001b[0m\u001b[0m\n\u001b[1;32m---> 22\u001b[1;33m         \u001b[0me\u001b[0m \u001b[1;33m=\u001b[0m \u001b[0merror\u001b[0m\u001b[1;33m(\u001b[0m\u001b[0mX\u001b[0m\u001b[1;33m,\u001b[0m\u001b[0my\u001b[0m\u001b[1;33m,\u001b[0m\u001b[0mtheta\u001b[0m\u001b[1;33m)\u001b[0m\u001b[1;33m\u001b[0m\u001b[1;33m\u001b[0m\u001b[0m\n\u001b[0m\u001b[0;32m     23\u001b[0m         \u001b[0merror_list\u001b[0m\u001b[1;33m.\u001b[0m\u001b[0mappend\u001b[0m\u001b[1;33m(\u001b[0m\u001b[0me\u001b[0m\u001b[1;33m)\u001b[0m\u001b[1;33m\u001b[0m\u001b[1;33m\u001b[0m\u001b[0m\n\u001b[0;32m     24\u001b[0m         \u001b[0mgrad\u001b[0m \u001b[1;33m=\u001b[0m \u001b[0mgradient\u001b[0m\u001b[1;33m(\u001b[0m\u001b[0mX\u001b[0m\u001b[1;33m,\u001b[0m\u001b[0my\u001b[0m\u001b[1;33m,\u001b[0m\u001b[0mtheta\u001b[0m\u001b[1;33m)\u001b[0m\u001b[1;33m\u001b[0m\u001b[1;33m\u001b[0m\u001b[0m\n",
      "\u001b[1;32m<ipython-input-98-0603fd39a387>\u001b[0m in \u001b[0;36merror\u001b[1;34m(X, y, theta)\u001b[0m\n\u001b[0;32m      5\u001b[0m     \u001b[0mm\u001b[0m \u001b[1;33m=\u001b[0m \u001b[0mX\u001b[0m\u001b[1;33m.\u001b[0m\u001b[0mshape\u001b[0m\u001b[1;33m[\u001b[0m\u001b[1;36m0\u001b[0m\u001b[1;33m]\u001b[0m\u001b[1;33m\u001b[0m\u001b[1;33m\u001b[0m\u001b[0m\n\u001b[0;32m      6\u001b[0m     \u001b[0my_\u001b[0m \u001b[1;33m=\u001b[0m \u001b[0mhypothesis\u001b[0m\u001b[1;33m(\u001b[0m\u001b[0mX\u001b[0m\u001b[1;33m,\u001b[0m\u001b[0mtheta\u001b[0m\u001b[1;33m)\u001b[0m\u001b[1;33m\u001b[0m\u001b[1;33m\u001b[0m\u001b[0m\n\u001b[1;32m----> 7\u001b[1;33m     \u001b[0me\u001b[0m \u001b[1;33m=\u001b[0m \u001b[0mnp\u001b[0m\u001b[1;33m.\u001b[0m\u001b[0msum\u001b[0m\u001b[1;33m(\u001b[0m\u001b[1;33m(\u001b[0m\u001b[0my\u001b[0m \u001b[1;33m-\u001b[0m \u001b[0my_\u001b[0m\u001b[1;33m)\u001b[0m\u001b[1;33m**\u001b[0m\u001b[1;36m2\u001b[0m\u001b[1;33m)\u001b[0m\u001b[1;33m\u001b[0m\u001b[1;33m\u001b[0m\u001b[0m\n\u001b[0m\u001b[0;32m      8\u001b[0m     \u001b[1;32mreturn\u001b[0m \u001b[0me\u001b[0m\u001b[1;33m/\u001b[0m\u001b[0mm\u001b[0m\u001b[1;33m\u001b[0m\u001b[1;33m\u001b[0m\u001b[0m\n\u001b[0;32m      9\u001b[0m \u001b[1;33m\u001b[0m\u001b[0m\n",
      "\u001b[1;31mOverflowError\u001b[0m: (34, 'Result too large')"
     ]
    }
   ],
   "source": []
  },
  {
   "cell_type": "code",
   "execution_count": null,
   "metadata": {},
   "outputs": [],
   "source": []
  }
 ],
 "metadata": {
  "language_info": {
   "codemirror_mode": {
    "name": "ipython",
    "version": 3
   },
   "file_extension": ".py",
   "mimetype": "text/x-python",
   "name": "python",
   "nbconvert_exporter": "python",
   "pygments_lexer": "ipython3",
   "version": 3
  },
  "orig_nbformat": 2,
  "kernelspec": {
   "name": "python_defaultSpec_1594365877840",
   "display_name": "Python 3.7.4 64-bit"
  }
 },
 "nbformat": 4,
 "nbformat_minor": 2
}