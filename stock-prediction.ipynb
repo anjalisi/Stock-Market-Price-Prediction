{
 "cells": [
  {
   "cell_type": "code",
   "execution_count": 1,
   "metadata": {},
   "outputs": [],
   "source": [
    "import numpy as np\n",
    "import matplotlib.pyplot as plt\n",
    "import pandas as pd\n"
   ]
  },
  {
   "cell_type": "code",
   "execution_count": 2,
   "metadata": {},
   "outputs": [
    {
     "output_type": "execute_result",
     "data": {
      "text/plain": "         Date   Symbol Series  Prev Close   Open   High    Low  Last  Close  \\\n0  2000-01-03  UTIBANK     EQ       24.70  26.70  26.70  26.70  26.7  26.70   \n1  2000-01-04  UTIBANK     EQ       26.70  27.00  28.70  26.50  27.0  26.85   \n2  2000-01-05  UTIBANK     EQ       26.85  26.00  27.75  25.50  26.4  26.30   \n3  2000-01-06  UTIBANK     EQ       26.30  25.80  27.00  25.80  25.9  25.95   \n4  2000-01-07  UTIBANK     EQ       25.95  25.00  26.00  24.25  25.0  24.80   \n5  2000-01-10  UTIBANK     EQ       24.80  25.05  26.50  25.00  25.0  25.00   \n6  2000-01-11  UTIBANK     EQ       25.00  24.25  24.80  23.00  23.0  23.20   \n7  2000-01-12  UTIBANK     EQ       23.20  22.60  24.50  22.60  24.0  24.00   \n8  2000-01-13  UTIBANK     EQ       24.00  24.50  24.50  23.10  23.8  23.60   \n9  2000-01-14  UTIBANK     EQ       23.60  24.00  24.20  22.50  23.5  23.25   \n\n    VWAP  Volume      Turnover  Trades  Deliverable Volume  %Deliverble  \n0  26.70  112100  2.993070e+11     NaN                 NaN          NaN  \n1  27.24  234500  6.387275e+11     NaN                 NaN          NaN  \n2  26.24  170100  4.462980e+11     NaN                 NaN          NaN  \n3  26.27  102100  2.681730e+11     NaN                 NaN          NaN  \n4  25.04   62600  1.567220e+11     NaN                 NaN          NaN  \n5  25.29   64200  1.623340e+11     NaN                 NaN          NaN  \n6  23.90   91700  2.191725e+11     NaN                 NaN          NaN  \n7  23.97   32500  7.791350e+10     NaN                 NaN          NaN  \n8  23.77   48300  1.147955e+11     NaN                 NaN          NaN  \n9  23.17   30700  7.114250e+10     NaN                 NaN          NaN  ",
      "text/html": "<div>\n<style scoped>\n    .dataframe tbody tr th:only-of-type {\n        vertical-align: middle;\n    }\n\n    .dataframe tbody tr th {\n        vertical-align: top;\n    }\n\n    .dataframe thead th {\n        text-align: right;\n    }\n</style>\n<table border=\"1\" class=\"dataframe\">\n  <thead>\n    <tr style=\"text-align: right;\">\n      <th></th>\n      <th>Date</th>\n      <th>Symbol</th>\n      <th>Series</th>\n      <th>Prev Close</th>\n      <th>Open</th>\n      <th>High</th>\n      <th>Low</th>\n      <th>Last</th>\n      <th>Close</th>\n      <th>VWAP</th>\n      <th>Volume</th>\n      <th>Turnover</th>\n      <th>Trades</th>\n      <th>Deliverable Volume</th>\n      <th>%Deliverble</th>\n    </tr>\n  </thead>\n  <tbody>\n    <tr>\n      <th>0</th>\n      <td>2000-01-03</td>\n      <td>UTIBANK</td>\n      <td>EQ</td>\n      <td>24.70</td>\n      <td>26.70</td>\n      <td>26.70</td>\n      <td>26.70</td>\n      <td>26.7</td>\n      <td>26.70</td>\n      <td>26.70</td>\n      <td>112100</td>\n      <td>2.993070e+11</td>\n      <td>NaN</td>\n      <td>NaN</td>\n      <td>NaN</td>\n    </tr>\n    <tr>\n      <th>1</th>\n      <td>2000-01-04</td>\n      <td>UTIBANK</td>\n      <td>EQ</td>\n      <td>26.70</td>\n      <td>27.00</td>\n      <td>28.70</td>\n      <td>26.50</td>\n      <td>27.0</td>\n      <td>26.85</td>\n      <td>27.24</td>\n      <td>234500</td>\n      <td>6.387275e+11</td>\n      <td>NaN</td>\n      <td>NaN</td>\n      <td>NaN</td>\n    </tr>\n    <tr>\n      <th>2</th>\n      <td>2000-01-05</td>\n      <td>UTIBANK</td>\n      <td>EQ</td>\n      <td>26.85</td>\n      <td>26.00</td>\n      <td>27.75</td>\n      <td>25.50</td>\n      <td>26.4</td>\n      <td>26.30</td>\n      <td>26.24</td>\n      <td>170100</td>\n      <td>4.462980e+11</td>\n      <td>NaN</td>\n      <td>NaN</td>\n      <td>NaN</td>\n    </tr>\n    <tr>\n      <th>3</th>\n      <td>2000-01-06</td>\n      <td>UTIBANK</td>\n      <td>EQ</td>\n      <td>26.30</td>\n      <td>25.80</td>\n      <td>27.00</td>\n      <td>25.80</td>\n      <td>25.9</td>\n      <td>25.95</td>\n      <td>26.27</td>\n      <td>102100</td>\n      <td>2.681730e+11</td>\n      <td>NaN</td>\n      <td>NaN</td>\n      <td>NaN</td>\n    </tr>\n    <tr>\n      <th>4</th>\n      <td>2000-01-07</td>\n      <td>UTIBANK</td>\n      <td>EQ</td>\n      <td>25.95</td>\n      <td>25.00</td>\n      <td>26.00</td>\n      <td>24.25</td>\n      <td>25.0</td>\n      <td>24.80</td>\n      <td>25.04</td>\n      <td>62600</td>\n      <td>1.567220e+11</td>\n      <td>NaN</td>\n      <td>NaN</td>\n      <td>NaN</td>\n    </tr>\n    <tr>\n      <th>5</th>\n      <td>2000-01-10</td>\n      <td>UTIBANK</td>\n      <td>EQ</td>\n      <td>24.80</td>\n      <td>25.05</td>\n      <td>26.50</td>\n      <td>25.00</td>\n      <td>25.0</td>\n      <td>25.00</td>\n      <td>25.29</td>\n      <td>64200</td>\n      <td>1.623340e+11</td>\n      <td>NaN</td>\n      <td>NaN</td>\n      <td>NaN</td>\n    </tr>\n    <tr>\n      <th>6</th>\n      <td>2000-01-11</td>\n      <td>UTIBANK</td>\n      <td>EQ</td>\n      <td>25.00</td>\n      <td>24.25</td>\n      <td>24.80</td>\n      <td>23.00</td>\n      <td>23.0</td>\n      <td>23.20</td>\n      <td>23.90</td>\n      <td>91700</td>\n      <td>2.191725e+11</td>\n      <td>NaN</td>\n      <td>NaN</td>\n      <td>NaN</td>\n    </tr>\n    <tr>\n      <th>7</th>\n      <td>2000-01-12</td>\n      <td>UTIBANK</td>\n      <td>EQ</td>\n      <td>23.20</td>\n      <td>22.60</td>\n      <td>24.50</td>\n      <td>22.60</td>\n      <td>24.0</td>\n      <td>24.00</td>\n      <td>23.97</td>\n      <td>32500</td>\n      <td>7.791350e+10</td>\n      <td>NaN</td>\n      <td>NaN</td>\n      <td>NaN</td>\n    </tr>\n    <tr>\n      <th>8</th>\n      <td>2000-01-13</td>\n      <td>UTIBANK</td>\n      <td>EQ</td>\n      <td>24.00</td>\n      <td>24.50</td>\n      <td>24.50</td>\n      <td>23.10</td>\n      <td>23.8</td>\n      <td>23.60</td>\n      <td>23.77</td>\n      <td>48300</td>\n      <td>1.147955e+11</td>\n      <td>NaN</td>\n      <td>NaN</td>\n      <td>NaN</td>\n    </tr>\n    <tr>\n      <th>9</th>\n      <td>2000-01-14</td>\n      <td>UTIBANK</td>\n      <td>EQ</td>\n      <td>23.60</td>\n      <td>24.00</td>\n      <td>24.20</td>\n      <td>22.50</td>\n      <td>23.5</td>\n      <td>23.25</td>\n      <td>23.17</td>\n      <td>30700</td>\n      <td>7.114250e+10</td>\n      <td>NaN</td>\n      <td>NaN</td>\n      <td>NaN</td>\n    </tr>\n  </tbody>\n</table>\n</div>"
     },
     "metadata": {},
     "execution_count": 2
    }
   ],
   "source": [
    "data = pd.read_csv(\"./Dataset/BanksDataset/AXISBANK.csv\")\n",
    "data.head(10)"
   ]
  },
  {
   "cell_type": "code",
   "execution_count": 3,
   "metadata": {
    "tags": []
   },
   "outputs": [
    {
     "output_type": "stream",
     "name": "stdout",
     "text": "5097\n"
    }
   ],
   "source": [
    "X_value = data.values\n",
    "print(len(X_value))"
   ]
  },
  {
   "cell_type": "code",
   "execution_count": null,
   "metadata": {},
   "outputs": [],
   "source": []
  }
 ],
 "metadata": {
  "language_info": {
   "codemirror_mode": {
    "name": "ipython",
    "version": 3
   },
   "file_extension": ".py",
   "mimetype": "text/x-python",
   "name": "python",
   "nbconvert_exporter": "python",
   "pygments_lexer": "ipython3",
   "version": 3
  },
  "orig_nbformat": 2,
  "kernelspec": {
   "name": "python_defaultSpec_1594365877840",
   "display_name": "Python 3.7.4 64-bit"
  }
 },
 "nbformat": 4,
 "nbformat_minor": 2
}