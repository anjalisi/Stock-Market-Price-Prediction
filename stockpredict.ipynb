{
 "cells": [
  {
   "cell_type": "code",
   "execution_count": 1,
   "metadata": {},
   "outputs": [
    {
     "data": {
      "text/html": [
       "<div>\n",
       "<style scoped>\n",
       "    .dataframe tbody tr th:only-of-type {\n",
       "        vertical-align: middle;\n",
       "    }\n",
       "\n",
       "    .dataframe tbody tr th {\n",
       "        vertical-align: top;\n",
       "    }\n",
       "\n",
       "    .dataframe thead th {\n",
       "        text-align: right;\n",
       "    }\n",
       "</style>\n",
       "<table border=\"1\" class=\"dataframe\">\n",
       "  <thead>\n",
       "    <tr style=\"text-align: right;\">\n",
       "      <th></th>\n",
       "      <th>Date</th>\n",
       "      <th>Symbol</th>\n",
       "      <th>Series</th>\n",
       "      <th>Prev Close</th>\n",
       "      <th>Open</th>\n",
       "      <th>High</th>\n",
       "      <th>Low</th>\n",
       "      <th>Last</th>\n",
       "      <th>Close</th>\n",
       "      <th>VWAP</th>\n",
       "      <th>Volume</th>\n",
       "      <th>Turnover</th>\n",
       "      <th>Trades</th>\n",
       "      <th>Deliverable Volume</th>\n",
       "      <th>%Deliverble</th>\n",
       "    </tr>\n",
       "  </thead>\n",
       "  <tbody>\n",
       "    <tr>\n",
       "      <th>0</th>\n",
       "      <td>2000-01-03</td>\n",
       "      <td>UTIBANK</td>\n",
       "      <td>EQ</td>\n",
       "      <td>24.70</td>\n",
       "      <td>26.7</td>\n",
       "      <td>26.70</td>\n",
       "      <td>26.70</td>\n",
       "      <td>26.7</td>\n",
       "      <td>26.70</td>\n",
       "      <td>26.70</td>\n",
       "      <td>112100</td>\n",
       "      <td>2.993070e+11</td>\n",
       "      <td>NaN</td>\n",
       "      <td>NaN</td>\n",
       "      <td>NaN</td>\n",
       "    </tr>\n",
       "    <tr>\n",
       "      <th>1</th>\n",
       "      <td>2000-01-04</td>\n",
       "      <td>UTIBANK</td>\n",
       "      <td>EQ</td>\n",
       "      <td>26.70</td>\n",
       "      <td>27.0</td>\n",
       "      <td>28.70</td>\n",
       "      <td>26.50</td>\n",
       "      <td>27.0</td>\n",
       "      <td>26.85</td>\n",
       "      <td>27.24</td>\n",
       "      <td>234500</td>\n",
       "      <td>6.387275e+11</td>\n",
       "      <td>NaN</td>\n",
       "      <td>NaN</td>\n",
       "      <td>NaN</td>\n",
       "    </tr>\n",
       "    <tr>\n",
       "      <th>2</th>\n",
       "      <td>2000-01-05</td>\n",
       "      <td>UTIBANK</td>\n",
       "      <td>EQ</td>\n",
       "      <td>26.85</td>\n",
       "      <td>26.0</td>\n",
       "      <td>27.75</td>\n",
       "      <td>25.50</td>\n",
       "      <td>26.4</td>\n",
       "      <td>26.30</td>\n",
       "      <td>26.24</td>\n",
       "      <td>170100</td>\n",
       "      <td>4.462980e+11</td>\n",
       "      <td>NaN</td>\n",
       "      <td>NaN</td>\n",
       "      <td>NaN</td>\n",
       "    </tr>\n",
       "    <tr>\n",
       "      <th>3</th>\n",
       "      <td>2000-01-06</td>\n",
       "      <td>UTIBANK</td>\n",
       "      <td>EQ</td>\n",
       "      <td>26.30</td>\n",
       "      <td>25.8</td>\n",
       "      <td>27.00</td>\n",
       "      <td>25.80</td>\n",
       "      <td>25.9</td>\n",
       "      <td>25.95</td>\n",
       "      <td>26.27</td>\n",
       "      <td>102100</td>\n",
       "      <td>2.681730e+11</td>\n",
       "      <td>NaN</td>\n",
       "      <td>NaN</td>\n",
       "      <td>NaN</td>\n",
       "    </tr>\n",
       "    <tr>\n",
       "      <th>4</th>\n",
       "      <td>2000-01-07</td>\n",
       "      <td>UTIBANK</td>\n",
       "      <td>EQ</td>\n",
       "      <td>25.95</td>\n",
       "      <td>25.0</td>\n",
       "      <td>26.00</td>\n",
       "      <td>24.25</td>\n",
       "      <td>25.0</td>\n",
       "      <td>24.80</td>\n",
       "      <td>25.04</td>\n",
       "      <td>62600</td>\n",
       "      <td>1.567220e+11</td>\n",
       "      <td>NaN</td>\n",
       "      <td>NaN</td>\n",
       "      <td>NaN</td>\n",
       "    </tr>\n",
       "  </tbody>\n",
       "</table>\n",
       "</div>"
      ],
      "text/plain": [
       "         Date   Symbol Series  Prev Close  Open   High    Low  Last  Close  \\\n",
       "0  2000-01-03  UTIBANK     EQ       24.70  26.7  26.70  26.70  26.7  26.70   \n",
       "1  2000-01-04  UTIBANK     EQ       26.70  27.0  28.70  26.50  27.0  26.85   \n",
       "2  2000-01-05  UTIBANK     EQ       26.85  26.0  27.75  25.50  26.4  26.30   \n",
       "3  2000-01-06  UTIBANK     EQ       26.30  25.8  27.00  25.80  25.9  25.95   \n",
       "4  2000-01-07  UTIBANK     EQ       25.95  25.0  26.00  24.25  25.0  24.80   \n",
       "\n",
       "    VWAP  Volume      Turnover  Trades  Deliverable Volume  %Deliverble  \n",
       "0  26.70  112100  2.993070e+11     NaN                 NaN          NaN  \n",
       "1  27.24  234500  6.387275e+11     NaN                 NaN          NaN  \n",
       "2  26.24  170100  4.462980e+11     NaN                 NaN          NaN  \n",
       "3  26.27  102100  2.681730e+11     NaN                 NaN          NaN  \n",
       "4  25.04   62600  1.567220e+11     NaN                 NaN          NaN  "
      ]
     },
     "execution_count": 1,
     "metadata": {},
     "output_type": "execute_result"
    }
   ],
   "source": [
    "#import packages\n",
    "import pandas as pd\n",
    "import numpy as np\n",
    "\n",
    "#to plot within notebook\n",
    "import matplotlib.pyplot as plt\n",
    "%matplotlib inline\n",
    "\n",
    "#setting figure size\n",
    "from matplotlib.pylab import rcParams\n",
    "rcParams['figure.figsize'] = 20,10\n",
    "\n",
    "#for normalizing data\n",
    "from sklearn.preprocessing import MinMaxScaler\n",
    "scaler = MinMaxScaler(feature_range=(0, 1))\n",
    "\n",
    "#read the file\n",
    "df = pd.read_csv('./Dataset/BanksDataset/AXISBANK.csv')\n",
    "\n",
    "#print the head\n",
    "df.head()"
   ]
  },
  {
   "cell_type": "code",
   "execution_count": 2,
   "metadata": {},
   "outputs": [],
   "source": [
    "df= df.drop(['Deliverable Volume', '%Deliverble'], axis=1)"
   ]
  },
  {
   "cell_type": "code",
   "execution_count": 3,
   "metadata": {},
   "outputs": [
    {
     "data": {
      "text/html": [
       "<div>\n",
       "<style scoped>\n",
       "    .dataframe tbody tr th:only-of-type {\n",
       "        vertical-align: middle;\n",
       "    }\n",
       "\n",
       "    .dataframe tbody tr th {\n",
       "        vertical-align: top;\n",
       "    }\n",
       "\n",
       "    .dataframe thead th {\n",
       "        text-align: right;\n",
       "    }\n",
       "</style>\n",
       "<table border=\"1\" class=\"dataframe\">\n",
       "  <thead>\n",
       "    <tr style=\"text-align: right;\">\n",
       "      <th></th>\n",
       "      <th>Date</th>\n",
       "      <th>Symbol</th>\n",
       "      <th>Series</th>\n",
       "      <th>Prev Close</th>\n",
       "      <th>Open</th>\n",
       "      <th>High</th>\n",
       "      <th>Low</th>\n",
       "      <th>Last</th>\n",
       "      <th>Close</th>\n",
       "      <th>VWAP</th>\n",
       "      <th>Volume</th>\n",
       "      <th>Turnover</th>\n",
       "      <th>Trades</th>\n",
       "    </tr>\n",
       "  </thead>\n",
       "  <tbody>\n",
       "    <tr>\n",
       "      <th>0</th>\n",
       "      <td>2000-01-03</td>\n",
       "      <td>UTIBANK</td>\n",
       "      <td>EQ</td>\n",
       "      <td>24.70</td>\n",
       "      <td>26.7</td>\n",
       "      <td>26.70</td>\n",
       "      <td>26.70</td>\n",
       "      <td>26.7</td>\n",
       "      <td>26.70</td>\n",
       "      <td>26.70</td>\n",
       "      <td>112100</td>\n",
       "      <td>2.993070e+11</td>\n",
       "      <td>NaN</td>\n",
       "    </tr>\n",
       "    <tr>\n",
       "      <th>1</th>\n",
       "      <td>2000-01-04</td>\n",
       "      <td>UTIBANK</td>\n",
       "      <td>EQ</td>\n",
       "      <td>26.70</td>\n",
       "      <td>27.0</td>\n",
       "      <td>28.70</td>\n",
       "      <td>26.50</td>\n",
       "      <td>27.0</td>\n",
       "      <td>26.85</td>\n",
       "      <td>27.24</td>\n",
       "      <td>234500</td>\n",
       "      <td>6.387275e+11</td>\n",
       "      <td>NaN</td>\n",
       "    </tr>\n",
       "    <tr>\n",
       "      <th>2</th>\n",
       "      <td>2000-01-05</td>\n",
       "      <td>UTIBANK</td>\n",
       "      <td>EQ</td>\n",
       "      <td>26.85</td>\n",
       "      <td>26.0</td>\n",
       "      <td>27.75</td>\n",
       "      <td>25.50</td>\n",
       "      <td>26.4</td>\n",
       "      <td>26.30</td>\n",
       "      <td>26.24</td>\n",
       "      <td>170100</td>\n",
       "      <td>4.462980e+11</td>\n",
       "      <td>NaN</td>\n",
       "    </tr>\n",
       "    <tr>\n",
       "      <th>3</th>\n",
       "      <td>2000-01-06</td>\n",
       "      <td>UTIBANK</td>\n",
       "      <td>EQ</td>\n",
       "      <td>26.30</td>\n",
       "      <td>25.8</td>\n",
       "      <td>27.00</td>\n",
       "      <td>25.80</td>\n",
       "      <td>25.9</td>\n",
       "      <td>25.95</td>\n",
       "      <td>26.27</td>\n",
       "      <td>102100</td>\n",
       "      <td>2.681730e+11</td>\n",
       "      <td>NaN</td>\n",
       "    </tr>\n",
       "    <tr>\n",
       "      <th>4</th>\n",
       "      <td>2000-01-07</td>\n",
       "      <td>UTIBANK</td>\n",
       "      <td>EQ</td>\n",
       "      <td>25.95</td>\n",
       "      <td>25.0</td>\n",
       "      <td>26.00</td>\n",
       "      <td>24.25</td>\n",
       "      <td>25.0</td>\n",
       "      <td>24.80</td>\n",
       "      <td>25.04</td>\n",
       "      <td>62600</td>\n",
       "      <td>1.567220e+11</td>\n",
       "      <td>NaN</td>\n",
       "    </tr>\n",
       "    <tr>\n",
       "      <th>...</th>\n",
       "      <td>...</td>\n",
       "      <td>...</td>\n",
       "      <td>...</td>\n",
       "      <td>...</td>\n",
       "      <td>...</td>\n",
       "      <td>...</td>\n",
       "      <td>...</td>\n",
       "      <td>...</td>\n",
       "      <td>...</td>\n",
       "      <td>...</td>\n",
       "      <td>...</td>\n",
       "      <td>...</td>\n",
       "      <td>...</td>\n",
       "    </tr>\n",
       "    <tr>\n",
       "      <th>5092</th>\n",
       "      <td>2020-06-24</td>\n",
       "      <td>AXISBANK</td>\n",
       "      <td>EQ</td>\n",
       "      <td>443.65</td>\n",
       "      <td>448.0</td>\n",
       "      <td>448.50</td>\n",
       "      <td>422.20</td>\n",
       "      <td>425.4</td>\n",
       "      <td>424.65</td>\n",
       "      <td>435.17</td>\n",
       "      <td>33577340</td>\n",
       "      <td>1.461173e+15</td>\n",
       "      <td>304342.0</td>\n",
       "    </tr>\n",
       "    <tr>\n",
       "      <th>5093</th>\n",
       "      <td>2020-06-25</td>\n",
       "      <td>AXISBANK</td>\n",
       "      <td>EQ</td>\n",
       "      <td>424.65</td>\n",
       "      <td>419.0</td>\n",
       "      <td>428.70</td>\n",
       "      <td>410.35</td>\n",
       "      <td>418.9</td>\n",
       "      <td>421.70</td>\n",
       "      <td>420.13</td>\n",
       "      <td>49854504</td>\n",
       "      <td>2.094542e+15</td>\n",
       "      <td>356209.0</td>\n",
       "    </tr>\n",
       "    <tr>\n",
       "      <th>5094</th>\n",
       "      <td>2020-06-26</td>\n",
       "      <td>AXISBANK</td>\n",
       "      <td>EQ</td>\n",
       "      <td>421.70</td>\n",
       "      <td>426.0</td>\n",
       "      <td>428.75</td>\n",
       "      <td>418.00</td>\n",
       "      <td>426.0</td>\n",
       "      <td>424.85</td>\n",
       "      <td>422.80</td>\n",
       "      <td>32611425</td>\n",
       "      <td>1.378815e+15</td>\n",
       "      <td>233244.0</td>\n",
       "    </tr>\n",
       "    <tr>\n",
       "      <th>5095</th>\n",
       "      <td>2020-06-29</td>\n",
       "      <td>AXISBANK</td>\n",
       "      <td>EQ</td>\n",
       "      <td>424.85</td>\n",
       "      <td>415.0</td>\n",
       "      <td>415.80</td>\n",
       "      <td>402.35</td>\n",
       "      <td>404.9</td>\n",
       "      <td>404.80</td>\n",
       "      <td>406.79</td>\n",
       "      <td>36320111</td>\n",
       "      <td>1.477448e+15</td>\n",
       "      <td>333423.0</td>\n",
       "    </tr>\n",
       "    <tr>\n",
       "      <th>5096</th>\n",
       "      <td>2020-06-30</td>\n",
       "      <td>AXISBANK</td>\n",
       "      <td>EQ</td>\n",
       "      <td>404.80</td>\n",
       "      <td>410.0</td>\n",
       "      <td>414.80</td>\n",
       "      <td>404.05</td>\n",
       "      <td>407.3</td>\n",
       "      <td>406.65</td>\n",
       "      <td>409.15</td>\n",
       "      <td>26951992</td>\n",
       "      <td>1.102744e+15</td>\n",
       "      <td>233118.0</td>\n",
       "    </tr>\n",
       "  </tbody>\n",
       "</table>\n",
       "<p>5097 rows × 13 columns</p>\n",
       "</div>"
      ],
      "text/plain": [
       "            Date    Symbol Series  Prev Close   Open    High     Low   Last  \\\n",
       "0     2000-01-03   UTIBANK     EQ       24.70   26.7   26.70   26.70   26.7   \n",
       "1     2000-01-04   UTIBANK     EQ       26.70   27.0   28.70   26.50   27.0   \n",
       "2     2000-01-05   UTIBANK     EQ       26.85   26.0   27.75   25.50   26.4   \n",
       "3     2000-01-06   UTIBANK     EQ       26.30   25.8   27.00   25.80   25.9   \n",
       "4     2000-01-07   UTIBANK     EQ       25.95   25.0   26.00   24.25   25.0   \n",
       "...          ...       ...    ...         ...    ...     ...     ...    ...   \n",
       "5092  2020-06-24  AXISBANK     EQ      443.65  448.0  448.50  422.20  425.4   \n",
       "5093  2020-06-25  AXISBANK     EQ      424.65  419.0  428.70  410.35  418.9   \n",
       "5094  2020-06-26  AXISBANK     EQ      421.70  426.0  428.75  418.00  426.0   \n",
       "5095  2020-06-29  AXISBANK     EQ      424.85  415.0  415.80  402.35  404.9   \n",
       "5096  2020-06-30  AXISBANK     EQ      404.80  410.0  414.80  404.05  407.3   \n",
       "\n",
       "       Close    VWAP    Volume      Turnover    Trades  \n",
       "0      26.70   26.70    112100  2.993070e+11       NaN  \n",
       "1      26.85   27.24    234500  6.387275e+11       NaN  \n",
       "2      26.30   26.24    170100  4.462980e+11       NaN  \n",
       "3      25.95   26.27    102100  2.681730e+11       NaN  \n",
       "4      24.80   25.04     62600  1.567220e+11       NaN  \n",
       "...      ...     ...       ...           ...       ...  \n",
       "5092  424.65  435.17  33577340  1.461173e+15  304342.0  \n",
       "5093  421.70  420.13  49854504  2.094542e+15  356209.0  \n",
       "5094  424.85  422.80  32611425  1.378815e+15  233244.0  \n",
       "5095  404.80  406.79  36320111  1.477448e+15  333423.0  \n",
       "5096  406.65  409.15  26951992  1.102744e+15  233118.0  \n",
       "\n",
       "[5097 rows x 13 columns]"
      ]
     },
     "execution_count": 3,
     "metadata": {},
     "output_type": "execute_result"
    }
   ],
   "source": [
    "df"
   ]
  },
  {
   "cell_type": "code",
   "execution_count": 4,
   "metadata": {},
   "outputs": [],
   "source": [
    "df1 = df.reset_index()['Close']"
   ]
  },
  {
   "cell_type": "code",
   "execution_count": 5,
   "metadata": {},
   "outputs": [
    {
     "data": {
      "text/plain": [
       "(5097,)"
      ]
     },
     "execution_count": 5,
     "metadata": {},
     "output_type": "execute_result"
    }
   ],
   "source": [
    "df1.shape"
   ]
  },
  {
   "cell_type": "code",
   "execution_count": 6,
   "metadata": {},
   "outputs": [
    {
     "data": {
      "text/plain": [
       "[<matplotlib.lines.Line2D at 0x1ef12df0348>]"
      ]
     },
     "execution_count": 6,
     "metadata": {},
     "output_type": "execute_result"
    },
    {
     "data": {
      "image/png": "[encoded data removed]",
      "text/plain": [
       "<Figure size 1440x720 with 1 Axes>"
      ]
     },
     "metadata": {
      "needs_background": "light"
     },
     "output_type": "display_data"
    }
   ],
   "source": [
    "# Plotting the dataframe\n",
    "plt.plot(df1)"
   ]
  },
  {
   "cell_type": "code",
   "execution_count": 7,
   "metadata": {},
   "outputs": [],
   "source": [
    "df1= scaler.fit_transform(np.array(df1).reshape(-1, 1))"
   ]
  },
  {
   "cell_type": "code",
   "execution_count": 8,
   "metadata": {},
   "outputs": [
    {
     "data": {
      "text/plain": [
       "array([[0.00227364],\n",
       "       [0.00234859],\n",
       "       [0.00207376],\n",
       "       ...,\n",
       "       [0.20122926],\n",
       "       [0.19121027],\n",
       "       [0.19213472]])"
      ]
     },
     "execution_count": 8,
     "metadata": {},
     "output_type": "execute_result"
    }
   ],
   "source": [
    "df1"
   ]
  },
  {
   "cell_type": "code",
   "execution_count": 9,
   "metadata": {},
   "outputs": [
    {
     "data": {
      "text/plain": [
       "(5097, 1)"
      ]
     },
     "execution_count": 9,
     "metadata": {},
     "output_type": "execute_result"
    }
   ],
   "source": [
    "df1.shape"
   ]
  },
  {
   "cell_type": "code",
   "execution_count": 10,
   "metadata": {},
   "outputs": [],
   "source": [
    "# SPLITTING INTO TRAIN AND TEST\n",
    "#deciding the split size\n",
    "trainSize = int(len(df1)*0.65)\n",
    "testSize= int(len(df1))- trainSize\n",
    "\n",
    "#Making the splits\n",
    "trainData, testData = df1[0:trainSize, :],df1[0:testSize, :] "
   ]
  },
  {
   "cell_type": "code",
   "execution_count": 11,
   "metadata": {},
   "outputs": [
    {
     "data": {
      "text/plain": [
       "(3313, 1784)"
      ]
     },
     "execution_count": 11,
     "metadata": {},
     "output_type": "execute_result"
    }
   ],
   "source": [
    "len(trainData), len(testData)\n"
   ]
  },
  {
   "cell_type": "code",
   "execution_count": 12,
   "metadata": {},
   "outputs": [],
   "source": [
    "# Converting the array of values into a dataset matrix\n",
    "def create_dataset(dataset, time_step=1):\n",
    "    dataX, dataY= [],[]\n",
    "    for i in range(len(dataset)-time_step-1):\n",
    "        a= dataset[i:(i+time_step), 0]\n",
    "        dataX.append(a)\n",
    "        dataY.append(dataset[i+time_step, 0])\n",
    "    return np.array(dataX), np.array(dataY)"
   ]
  },
  {
   "cell_type": "code",
   "execution_count": 13,
   "metadata": {},
   "outputs": [],
   "source": [
    "time_step= 320\n",
    "X_train, Y_train= create_dataset(trainData, time_step)\n",
    "X_test, Y_test= create_dataset(testData, time_step)"
   ]
  },
  {
   "cell_type": "code",
   "execution_count": 14,
   "metadata": {
    "tags": []
   },
   "outputs": [
    {
     "name": "stdout",
     "output_type": "stream",
     "text": [
      "(2992, 320)\n"
     ]
    }
   ],
   "source": [
    "print(X_train.shape)"
   ]
  },
  {
   "cell_type": "code",
   "execution_count": 15,
   "metadata": {
    "tags": []
   },
   "outputs": [
    {
     "name": "stdout",
     "output_type": "stream",
     "text": [
      "(2992,)\n"
     ]
    }
   ],
   "source": [
    "print(Y_train.shape)"
   ]
  },
  {
   "cell_type": "code",
   "execution_count": 16,
   "metadata": {},
   "outputs": [],
   "source": [
    "#Before going into LSTM, we have to make our data 3D\n",
    "X_train= X_train.reshape(X_train.shape[0], X_train.shape[1],1)\n",
    "X_test= X_test.reshape(X_test.shape[0], X_test.shape[1],1)\n"
   ]
  },
  {
   "cell_type": "code",
   "execution_count": 17,
   "metadata": {},
   "outputs": [
    {
     "name": "stderr",
     "output_type": "stream",
     "text": [
      "C:\\Users\\330s\\anaconda3\\lib\\site-packages\\tensorflow\\python\\framework\\dtypes.py:516: FutureWarning: Passing (type, 1) or '1type' as a synonym of type is deprecated; in a future version of numpy, it will be understood as (type, (1,)) / '(1,)type'.\n",
      "  _np_qint8 = np.dtype([(\"qint8\", np.int8, 1)])\n",
      "C:\\Users\\330s\\anaconda3\\lib\\site-packages\\tensorflow\\python\\framework\\dtypes.py:517: FutureWarning: Passing (type, 1) or '1type' as a synonym of type is deprecated; in a future version of numpy, it will be understood as (type, (1,)) / '(1,)type'.\n",
      "  _np_quint8 = np.dtype([(\"quint8\", np.uint8, 1)])\n",
      "C:\\Users\\330s\\anaconda3\\lib\\site-packages\\tensorflow\\python\\framework\\dtypes.py:518: FutureWarning: Passing (type, 1) or '1type' as a synonym of type is deprecated; in a future version of numpy, it will be understood as (type, (1,)) / '(1,)type'.\n",
      "  _np_qint16 = np.dtype([(\"qint16\", np.int16, 1)])\n",
      "C:\\Users\\330s\\anaconda3\\lib\\site-packages\\tensorflow\\python\\framework\\dtypes.py:519: FutureWarning: Passing (type, 1) or '1type' as a synonym of type is deprecated; in a future version of numpy, it will be understood as (type, (1,)) / '(1,)type'.\n",
      "  _np_quint16 = np.dtype([(\"quint16\", np.uint16, 1)])\n",
      "C:\\Users\\330s\\anaconda3\\lib\\site-packages\\tensorflow\\python\\framework\\dtypes.py:520: FutureWarning: Passing (type, 1) or '1type' as a synonym of type is deprecated; in a future version of numpy, it will be understood as (type, (1,)) / '(1,)type'.\n",
      "  _np_qint32 = np.dtype([(\"qint32\", np.int32, 1)])\n",
      "C:\\Users\\330s\\anaconda3\\lib\\site-packages\\tensorflow\\python\\framework\\dtypes.py:525: FutureWarning: Passing (type, 1) or '1type' as a synonym of type is deprecated; in a future version of numpy, it will be understood as (type, (1,)) / '(1,)type'.\n",
      "  np_resource = np.dtype([(\"resource\", np.ubyte, 1)])\n",
      "C:\\Users\\330s\\anaconda3\\lib\\site-packages\\tensorboard\\compat\\tensorflow_stub\\dtypes.py:541: FutureWarning: Passing (type, 1) or '1type' as a synonym of type is deprecated; in a future version of numpy, it will be understood as (type, (1,)) / '(1,)type'.\n",
      "  _np_qint8 = np.dtype([(\"qint8\", np.int8, 1)])\n",
      "C:\\Users\\330s\\anaconda3\\lib\\site-packages\\tensorboard\\compat\\tensorflow_stub\\dtypes.py:542: FutureWarning: Passing (type, 1) or '1type' as a synonym of type is deprecated; in a future version of numpy, it will be understood as (type, (1,)) / '(1,)type'.\n",
      "  _np_quint8 = np.dtype([(\"quint8\", np.uint8, 1)])\n",
      "C:\\Users\\330s\\anaconda3\\lib\\site-packages\\tensorboard\\compat\\tensorflow_stub\\dtypes.py:543: FutureWarning: Passing (type, 1) or '1type' as a synonym of type is deprecated; in a future version of numpy, it will be understood as (type, (1,)) / '(1,)type'.\n",
      "  _np_qint16 = np.dtype([(\"qint16\", np.int16, 1)])\n",
      "C:\\Users\\330s\\anaconda3\\lib\\site-packages\\tensorboard\\compat\\tensorflow_stub\\dtypes.py:544: FutureWarning: Passing (type, 1) or '1type' as a synonym of type is deprecated; in a future version of numpy, it will be understood as (type, (1,)) / '(1,)type'.\n",
      "  _np_quint16 = np.dtype([(\"quint16\", np.uint16, 1)])\n",
      "C:\\Users\\330s\\anaconda3\\lib\\site-packages\\tensorboard\\compat\\tensorflow_stub\\dtypes.py:545: FutureWarning: Passing (type, 1) or '1type' as a synonym of type is deprecated; in a future version of numpy, it will be understood as (type, (1,)) / '(1,)type'.\n",
      "  _np_qint32 = np.dtype([(\"qint32\", np.int32, 1)])\n",
      "C:\\Users\\330s\\anaconda3\\lib\\site-packages\\tensorboard\\compat\\tensorflow_stub\\dtypes.py:550: FutureWarning: Passing (type, 1) or '1type' as a synonym of type is deprecated; in a future version of numpy, it will be understood as (type, (1,)) / '(1,)type'.\n",
      "  np_resource = np.dtype([(\"resource\", np.ubyte, 1)])\n"
     ]
    }
   ],
   "source": [
    "#Creating the stacked LSTM Model\n",
    "from tensorflow.keras.models import Sequential\n",
    "from tensorflow.keras.layers import Dense\n",
    "from tensorflow.keras.layers import LSTM"
   ]
  },
  {
   "cell_type": "code",
   "execution_count": 18,
   "metadata": {},
   "outputs": [
    {
     "name": "stdout",
     "output_type": "stream",
     "text": [
      "WARNING:tensorflow:From C:\\Users\\330s\\anaconda3\\lib\\site-packages\\tensorflow\\python\\ops\\init_ops.py:1251: calling VarianceScaling.__init__ (from tensorflow.python.ops.init_ops) with dtype is deprecated and will be removed in a future version.\n",
      "Instructions for updating:\n",
      "Call initializer instance with the dtype argument instead of passing it to the constructor\n"
     ]
    }
   ],
   "source": [
    "model = Sequential()\n",
    "model.add(LSTM(70, return_sequences= True, input_shape=(320,1)))\n",
    "model.add(LSTM(70, return_sequences= True))\n",
    "model.add(LSTM(70))\n",
    "model.add(Dense(1))\n",
    "model.compile(loss= 'mean_squared_error', optimizer= 'adam')"
   ]
  },
  {
   "cell_type": "code",
   "execution_count": 19,
   "metadata": {},
   "outputs": [
    {
     "name": "stdout",
     "output_type": "stream",
     "text": [
      "Model: \"sequential\"\n",
      "_________________________________________________________________\n",
      "Layer (type)                 Output Shape              Param #   \n",
      "=================================================================\n",
      "lstm (LSTM)                  (None, 320, 70)           20160     \n",
      "_________________________________________________________________\n",
      "lstm_1 (LSTM)                (None, 320, 70)           39480     \n",
      "_________________________________________________________________\n",
      "lstm_2 (LSTM)                (None, 70)                39480     \n",
      "_________________________________________________________________\n",
      "dense (Dense)                (None, 1)                 71        \n",
      "=================================================================\n",
      "Total params: 99,191\n",
      "Trainable params: 99,191\n",
      "Non-trainable params: 0\n",
      "_________________________________________________________________\n"
     ]
    }
   ],
   "source": [
    "model.summary()"
   ]
  },
  {
   "cell_type": "code",
   "execution_count": 20,
   "metadata": {},
   "outputs": [
    {
     "name": "stdout",
     "output_type": "stream",
     "text": [
      "Train on 2992 samples, validate on 1463 samples\n",
      "WARNING:tensorflow:From C:\\Users\\330s\\anaconda3\\lib\\site-packages\\tensorflow\\python\\ops\\math_grad.py:1250: add_dispatch_support.<locals>.wrapper (from tensorflow.python.ops.array_ops) is deprecated and will be removed in a future version.\n",
      "Instructions for updating:\n",
      "Use tf.where in 2.0, which has the same broadcast rule as np.where\n",
      "Epoch 1/140\n",
      "2992/2992 [==============================] - 86s 29ms/sample - loss: 0.0161 - val_loss: 2.2978e-04\n",
      "Epoch 2/140\n",
      "2992/2992 [==============================] - 94s 32ms/sample - loss: 7.1258e-04 - val_loss: 6.1116e-05\n",
      "Epoch 3/140\n",
      "2992/2992 [==============================] - 102s 34ms/sample - loss: 5.8468e-04 - val_loss: 5.5726e-05\n",
      "Epoch 4/140\n",
      "2992/2992 [==============================] - 98s 33ms/sample - loss: 5.6496e-04 - val_loss: 4.8504e-05\n",
      "Epoch 5/140\n",
      "2992/2992 [==============================] - 99s 33ms/sample - loss: 5.4036e-04 - val_loss: 4.4477e-05\n",
      "Epoch 6/140\n",
      "2992/2992 [==============================] - 101s 34ms/sample - loss: 5.3152e-04 - val_loss: 4.3617e-05\n",
      "Epoch 7/140\n",
      "2992/2992 [==============================] - 101s 34ms/sample - loss: 5.0555e-04 - val_loss: 4.1617e-05\n",
      "Epoch 8/140\n",
      "2992/2992 [==============================] - 102s 34ms/sample - loss: 5.1611e-04 - val_loss: 7.6891e-05\n",
      "Epoch 9/140\n",
      "2992/2992 [==============================] - 102s 34ms/sample - loss: 5.3181e-04 - val_loss: 4.2956e-05\n",
      "Epoch 10/140\n",
      "2992/2992 [==============================] - 102s 34ms/sample - loss: 4.6633e-04 - val_loss: 4.4291e-05\n",
      "Epoch 11/140\n",
      "2992/2992 [==============================] - 101s 34ms/sample - loss: 4.4421e-04 - val_loss: 3.6225e-05\n",
      "Epoch 12/140\n",
      "2992/2992 [==============================] - 102s 34ms/sample - loss: 4.2370e-04 - val_loss: 3.9810e-05\n",
      "Epoch 13/140\n",
      "2992/2992 [==============================] - 100s 34ms/sample - loss: 4.2076e-04 - val_loss: 3.5665e-05\n",
      "Epoch 14/140\n",
      "2992/2992 [==============================] - 102s 34ms/sample - loss: 4.8488e-04 - val_loss: 4.4255e-05\n",
      "Epoch 15/140\n",
      "2992/2992 [==============================] - 102s 34ms/sample - loss: 4.4877e-04 - val_loss: 3.5131e-05\n",
      "Epoch 16/140\n",
      "2992/2992 [==============================] - 101s 34ms/sample - loss: 3.9215e-04 - val_loss: 3.1987e-05\n",
      "Epoch 17/140\n",
      "2992/2992 [==============================] - 102s 34ms/sample - loss: 3.7165e-04 - val_loss: 3.9269e-05\n",
      "Epoch 18/140\n",
      "2992/2992 [==============================] - 101s 34ms/sample - loss: 4.1314e-04 - val_loss: 3.3530e-05\n",
      "Epoch 19/140\n",
      "2992/2992 [==============================] - 102s 34ms/sample - loss: 3.4295e-04 - val_loss: 3.1143e-05\n",
      "Epoch 20/140\n",
      "2992/2992 [==============================] - 101s 34ms/sample - loss: 3.8446e-04 - val_loss: 5.1362e-05\n",
      "Epoch 21/140\n",
      "2992/2992 [==============================] - 101s 34ms/sample - loss: 3.8320e-04 - val_loss: 3.0782e-05\n",
      "Epoch 22/140\n",
      "2992/2992 [==============================] - 101s 34ms/sample - loss: 3.1897e-04 - val_loss: 3.3262e-05\n",
      "Epoch 23/140\n",
      "2992/2992 [==============================] - 102s 34ms/sample - loss: 2.9436e-04 - val_loss: 3.1201e-05\n",
      "Epoch 24/140\n",
      "2992/2992 [==============================] - 102s 34ms/sample - loss: 3.0571e-04 - val_loss: 4.0568e-05\n",
      "Epoch 25/140\n",
      "2992/2992 [==============================] - 102s 34ms/sample - loss: 3.1606e-04 - val_loss: 2.7509e-05\n",
      "Epoch 26/140\n",
      "2992/2992 [==============================] - 101s 34ms/sample - loss: 3.2577e-04 - val_loss: 4.0726e-05\n",
      "Epoch 27/140\n",
      "2992/2992 [==============================] - 102s 34ms/sample - loss: 2.6943e-04 - val_loss: 2.7034e-05\n",
      "Epoch 28/140\n",
      "2992/2992 [==============================] - 103s 34ms/sample - loss: 2.6918e-04 - val_loss: 4.4293e-05\n",
      "Epoch 29/140\n",
      "2992/2992 [==============================] - 101s 34ms/sample - loss: 2.6845e-04 - val_loss: 2.5178e-05\n",
      "Epoch 30/140\n",
      "2992/2992 [==============================] - 101s 34ms/sample - loss: 2.5011e-04 - val_loss: 3.0038e-05\n",
      "Epoch 31/140\n",
      "2992/2992 [==============================] - 102s 34ms/sample - loss: 2.7721e-04 - val_loss: 2.4024e-05\n",
      "Epoch 32/140\n",
      "2992/2992 [==============================] - 102s 34ms/sample - loss: 2.6984e-04 - val_loss: 2.9536e-05\n",
      "Epoch 33/140\n",
      "2992/2992 [==============================] - 102s 34ms/sample - loss: 2.4011e-04 - val_loss: 2.2604e-05\n",
      "Epoch 34/140\n",
      "2992/2992 [==============================] - 101s 34ms/sample - loss: 2.3062e-04 - val_loss: 4.0909e-05\n",
      "Epoch 35/140\n",
      "2992/2992 [==============================] - 102s 34ms/sample - loss: 2.0397e-04 - val_loss: 2.2617e-05\n",
      "Epoch 36/140\n",
      "2992/2992 [==============================] - 102s 34ms/sample - loss: 2.1322e-04 - val_loss: 2.1287e-05\n",
      "Epoch 37/140\n",
      "2992/2992 [==============================] - 101s 34ms/sample - loss: 1.9900e-04 - val_loss: 3.2758e-05\n",
      "Epoch 38/140\n",
      "2992/2992 [==============================] - 103s 34ms/sample - loss: 1.9494e-04 - val_loss: 2.0281e-05\n",
      "Epoch 39/140\n",
      "2992/2992 [==============================] - 101s 34ms/sample - loss: 1.8958e-04 - val_loss: 2.5979e-05\n",
      "Epoch 40/140\n",
      "2992/2992 [==============================] - 101s 34ms/sample - loss: 2.2184e-04 - val_loss: 3.4134e-05\n",
      "Epoch 41/140\n",
      "2992/2992 [==============================] - 101s 34ms/sample - loss: 1.8862e-04 - val_loss: 1.9339e-05\n",
      "Epoch 42/140\n",
      "2992/2992 [==============================] - 102s 34ms/sample - loss: 1.6576e-04 - val_loss: 1.9147e-05\n",
      "Epoch 43/140\n",
      "2992/2992 [==============================] - 101s 34ms/sample - loss: 1.6825e-04 - val_loss: 1.8737e-05\n",
      "Epoch 44/140\n",
      "2992/2992 [==============================] - 102s 34ms/sample - loss: 1.8969e-04 - val_loss: 2.0152e-05\n",
      "Epoch 45/140\n",
      "2992/2992 [==============================] - 104s 35ms/sample - loss: 1.6282e-04 - val_loss: 1.8272e-05\n",
      "Epoch 46/140\n",
      "2992/2992 [==============================] - 101s 34ms/sample - loss: 1.5978e-04 - val_loss: 1.8235e-05\n",
      "Epoch 47/140\n",
      "2992/2992 [==============================] - 101s 34ms/sample - loss: 1.4070e-04 - val_loss: 1.7536e-05\n",
      "Epoch 48/140\n",
      "2992/2992 [==============================] - 104s 35ms/sample - loss: 1.4451e-04 - val_loss: 1.7037e-05\n",
      "Epoch 49/140\n",
      "2992/2992 [==============================] - 102s 34ms/sample - loss: 1.3682e-04 - val_loss: 2.1384e-05\n",
      "Epoch 50/140\n",
      "2992/2992 [==============================] - 103s 34ms/sample - loss: 1.3413e-04 - val_loss: 1.8099e-05\n",
      "Epoch 51/140\n",
      "2992/2992 [==============================] - 102s 34ms/sample - loss: 1.4596e-04 - val_loss: 1.6664e-05\n",
      "Epoch 52/140\n",
      "2992/2992 [==============================] - 104s 35ms/sample - loss: 1.3543e-04 - val_loss: 1.6031e-05\n",
      "Epoch 53/140\n",
      "2992/2992 [==============================] - 105s 35ms/sample - loss: 1.4689e-04 - val_loss: 1.5470e-05\n",
      "Epoch 54/140\n",
      "2992/2992 [==============================] - 103s 34ms/sample - loss: 1.9939e-04 - val_loss: 1.7028e-05\n",
      "Epoch 55/140\n",
      "2992/2992 [==============================] - 98s 33ms/sample - loss: 1.3853e-04 - val_loss: 2.0861e-05\n",
      "Epoch 56/140\n",
      "2992/2992 [==============================] - 103s 34ms/sample - loss: 1.2997e-04 - val_loss: 1.4666e-05\n",
      "Epoch 57/140\n",
      "2992/2992 [==============================] - 106s 36ms/sample - loss: 1.5065e-04 - val_loss: 1.5089e-05\n",
      "Epoch 58/140\n",
      "2992/2992 [==============================] - 101s 34ms/sample - loss: 1.4016e-04 - val_loss: 1.4254e-05\n",
      "Epoch 59/140\n",
      "2992/2992 [==============================] - 102s 34ms/sample - loss: 1.4258e-04 - val_loss: 1.4609e-05\n",
      "Epoch 60/140\n",
      "2992/2992 [==============================] - 102s 34ms/sample - loss: 1.3046e-04 - val_loss: 1.6375e-05\n",
      "Epoch 61/140\n",
      "2992/2992 [==============================] - 103s 34ms/sample - loss: 1.2041e-04 - val_loss: 1.3950e-05\n",
      "Epoch 62/140\n",
      "2992/2992 [==============================] - 109s 36ms/sample - loss: 1.4297e-04 - val_loss: 1.8170e-05\n",
      "Epoch 63/140\n",
      "2992/2992 [==============================] - 112s 37ms/sample - loss: 1.1317e-04 - val_loss: 1.3404e-05\n",
      "Epoch 64/140\n",
      "2992/2992 [==============================] - 112s 37ms/sample - loss: 1.1840e-04 - val_loss: 1.3981e-05\n",
      "Epoch 65/140\n",
      "2992/2992 [==============================] - 107s 36ms/sample - loss: 1.1547e-04 - val_loss: 1.2670e-05\n",
      "Epoch 66/140\n",
      "2992/2992 [==============================] - 105s 35ms/sample - loss: 1.1302e-04 - val_loss: 1.2500e-05\n",
      "Epoch 67/140\n",
      "2992/2992 [==============================] - 105s 35ms/sample - loss: 1.3467e-04 - val_loss: 1.6381e-05\n"
     ]
    },
    {
     "name": "stdout",
     "output_type": "stream",
     "text": [
      "Epoch 68/140\n",
      "2992/2992 [==============================] - 106s 35ms/sample - loss: 1.1251e-04 - val_loss: 1.2423e-05\n",
      "Epoch 69/140\n",
      "2992/2992 [==============================] - 104s 35ms/sample - loss: 1.1191e-04 - val_loss: 1.2430e-05\n",
      "Epoch 70/140\n",
      "2992/2992 [==============================] - 107s 36ms/sample - loss: 1.0886e-04 - val_loss: 2.4918e-05\n",
      "Epoch 71/140\n",
      "2992/2992 [==============================] - 109s 37ms/sample - loss: 1.1046e-04 - val_loss: 1.1921e-05\n",
      "Epoch 72/140\n",
      "2992/2992 [==============================] - 107s 36ms/sample - loss: 1.0901e-04 - val_loss: 1.7666e-05\n",
      "Epoch 73/140\n",
      "2992/2992 [==============================] - 102s 34ms/sample - loss: 1.0901e-04 - val_loss: 1.2536e-05\n",
      "Epoch 74/140\n",
      "2992/2992 [==============================] - 103s 34ms/sample - loss: 1.0408e-04 - val_loss: 3.1264e-05\n",
      "Epoch 75/140\n",
      "2992/2992 [==============================] - 102s 34ms/sample - loss: 1.3434e-04 - val_loss: 1.2076e-05\n",
      "Epoch 76/140\n",
      "2992/2992 [==============================] - 102s 34ms/sample - loss: 1.0864e-04 - val_loss: 3.3439e-05\n",
      "Epoch 77/140\n",
      "2992/2992 [==============================] - 102s 34ms/sample - loss: 1.2430e-04 - val_loss: 2.6500e-05\n",
      "Epoch 78/140\n",
      "2992/2992 [==============================] - 102s 34ms/sample - loss: 1.0778e-04 - val_loss: 1.3540e-05\n",
      "Epoch 79/140\n",
      "2992/2992 [==============================] - 102s 34ms/sample - loss: 9.7832e-05 - val_loss: 1.1501e-05\n",
      "Epoch 80/140\n",
      "2992/2992 [==============================] - 102s 34ms/sample - loss: 1.0522e-04 - val_loss: 1.1823e-05\n",
      "Epoch 81/140\n",
      "2992/2992 [==============================] - 103s 34ms/sample - loss: 1.2717e-04 - val_loss: 1.1334e-05\n",
      "Epoch 82/140\n",
      "2992/2992 [==============================] - 103s 34ms/sample - loss: 9.6384e-05 - val_loss: 1.2679e-05\n",
      "Epoch 83/140\n",
      "2992/2992 [==============================] - 102s 34ms/sample - loss: 1.1745e-04 - val_loss: 1.1517e-05\n",
      "Epoch 84/140\n",
      "2992/2992 [==============================] - 107s 36ms/sample - loss: 1.0724e-04 - val_loss: 1.5617e-05\n",
      "Epoch 85/140\n",
      "2992/2992 [==============================] - 109s 36ms/sample - loss: 1.2200e-04 - val_loss: 1.6338e-05\n",
      "Epoch 86/140\n",
      "2992/2992 [==============================] - 103s 34ms/sample - loss: 1.0733e-04 - val_loss: 1.3338e-05\n",
      "Epoch 87/140\n",
      "2992/2992 [==============================] - 102s 34ms/sample - loss: 9.9755e-05 - val_loss: 1.8176e-05\n",
      "Epoch 88/140\n",
      "2992/2992 [==============================] - 104s 35ms/sample - loss: 1.0649e-04 - val_loss: 1.3841e-05\n",
      "Epoch 89/140\n",
      "2992/2992 [==============================] - 102s 34ms/sample - loss: 1.0367e-04 - val_loss: 1.3979e-05\n",
      "Epoch 90/140\n",
      "2992/2992 [==============================] - 101s 34ms/sample - loss: 1.0128e-04 - val_loss: 1.1477e-05\n",
      "Epoch 91/140\n",
      "2992/2992 [==============================] - 102s 34ms/sample - loss: 9.9409e-05 - val_loss: 1.1382e-05\n",
      "Epoch 92/140\n",
      "2992/2992 [==============================] - 102s 34ms/sample - loss: 1.0778e-04 - val_loss: 1.1887e-05\n",
      "Epoch 93/140\n",
      "2992/2992 [==============================] - 102s 34ms/sample - loss: 1.4289e-04 - val_loss: 1.6819e-05\n",
      "Epoch 94/140\n",
      "2992/2992 [==============================] - 102s 34ms/sample - loss: 1.4410e-04 - val_loss: 1.1211e-05\n",
      "Epoch 95/140\n",
      "2992/2992 [==============================] - 103s 34ms/sample - loss: 1.0229e-04 - val_loss: 1.0727e-05\n",
      "Epoch 96/140\n",
      "2992/2992 [==============================] - 102s 34ms/sample - loss: 1.0586e-04 - val_loss: 1.5393e-05\n",
      "Epoch 97/140\n",
      "2992/2992 [==============================] - 103s 34ms/sample - loss: 1.0871e-04 - val_loss: 1.6268e-05\n",
      "Epoch 98/140\n",
      "2992/2992 [==============================] - 102s 34ms/sample - loss: 1.5609e-04 - val_loss: 2.2661e-05\n",
      "Epoch 99/140\n",
      "2992/2992 [==============================] - 102s 34ms/sample - loss: 1.1287e-04 - val_loss: 1.1512e-05\n",
      "Epoch 100/140\n",
      "2992/2992 [==============================] - 102s 34ms/sample - loss: 1.0619e-04 - val_loss: 2.0888e-05\n",
      "Epoch 101/140\n",
      "2992/2992 [==============================] - 102s 34ms/sample - loss: 9.4374e-05 - val_loss: 1.1381e-05\n",
      "Epoch 102/140\n",
      "2992/2992 [==============================] - 103s 35ms/sample - loss: 9.5153e-05 - val_loss: 1.4206e-05\n",
      "Epoch 103/140\n",
      "2992/2992 [==============================] - 102s 34ms/sample - loss: 9.5060e-05 - val_loss: 1.0586e-05\n",
      "Epoch 104/140\n",
      "2992/2992 [==============================] - 102s 34ms/sample - loss: 9.3637e-05 - val_loss: 1.0301e-05\n",
      "Epoch 105/140\n",
      "2992/2992 [==============================] - 102s 34ms/sample - loss: 9.3040e-05 - val_loss: 1.1391e-05\n",
      "Epoch 106/140\n",
      "2992/2992 [==============================] - 102s 34ms/sample - loss: 9.5876e-05 - val_loss: 1.2154e-05\n",
      "Epoch 107/140\n",
      "2992/2992 [==============================] - 101s 34ms/sample - loss: 1.2006e-04 - val_loss: 1.0458e-05\n",
      "Epoch 108/140\n",
      "2992/2992 [==============================] - 102s 34ms/sample - loss: 1.0520e-04 - val_loss: 1.1405e-05\n",
      "Epoch 109/140\n",
      "2992/2992 [==============================] - 102s 34ms/sample - loss: 1.0477e-04 - val_loss: 1.2476e-05\n",
      "Epoch 110/140\n",
      "2992/2992 [==============================] - 101s 34ms/sample - loss: 1.0480e-04 - val_loss: 1.2527e-05\n",
      "Epoch 111/140\n",
      "2992/2992 [==============================] - 102s 34ms/sample - loss: 9.7796e-05 - val_loss: 1.0214e-05\n",
      "Epoch 112/140\n",
      "2992/2992 [==============================] - 102s 34ms/sample - loss: 9.8871e-05 - val_loss: 1.3705e-05\n",
      "Epoch 113/140\n",
      "2992/2992 [==============================] - 102s 34ms/sample - loss: 9.9951e-05 - val_loss: 1.3165e-05\n",
      "Epoch 114/140\n",
      "2992/2992 [==============================] - 101s 34ms/sample - loss: 1.1898e-04 - val_loss: 1.0096e-05\n",
      "Epoch 115/140\n",
      "2992/2992 [==============================] - 101s 34ms/sample - loss: 1.0233e-04 - val_loss: 1.1395e-05\n",
      "Epoch 116/140\n",
      "2992/2992 [==============================] - 102s 34ms/sample - loss: 9.7865e-05 - val_loss: 1.7209e-05\n",
      "Epoch 117/140\n",
      "2992/2992 [==============================] - 102s 34ms/sample - loss: 9.7029e-05 - val_loss: 1.1780e-05\n",
      "Epoch 118/140\n",
      "2992/2992 [==============================] - 102s 34ms/sample - loss: 1.1341e-04 - val_loss: 9.9367e-06\n",
      "Epoch 119/140\n",
      "2992/2992 [==============================] - 102s 34ms/sample - loss: 1.0719e-04 - val_loss: 1.3032e-05\n",
      "Epoch 120/140\n",
      "2992/2992 [==============================] - 101s 34ms/sample - loss: 1.0117e-04 - val_loss: 1.0709e-05\n",
      "Epoch 121/140\n",
      "2992/2992 [==============================] - 101s 34ms/sample - loss: 1.0707e-04 - val_loss: 1.5301e-05\n",
      "Epoch 122/140\n",
      "2992/2992 [==============================] - 101s 34ms/sample - loss: 1.0097e-04 - val_loss: 1.5428e-05\n",
      "Epoch 123/140\n",
      "2992/2992 [==============================] - 101s 34ms/sample - loss: 9.6288e-05 - val_loss: 1.1730e-05\n",
      "Epoch 124/140\n",
      "2992/2992 [==============================] - 102s 34ms/sample - loss: 1.0528e-04 - val_loss: 1.0957e-05\n",
      "Epoch 125/140\n",
      "2992/2992 [==============================] - 102s 34ms/sample - loss: 9.7793e-05 - val_loss: 1.2416e-05\n",
      "Epoch 126/140\n",
      "2992/2992 [==============================] - 104s 35ms/sample - loss: 9.5700e-05 - val_loss: 1.0539e-05\n",
      "Epoch 127/140\n",
      "2992/2992 [==============================] - 102s 34ms/sample - loss: 1.1322e-04 - val_loss: 9.7728e-06\n",
      "Epoch 128/140\n",
      "2992/2992 [==============================] - 108s 36ms/sample - loss: 9.9939e-05 - val_loss: 1.3047e-05\n",
      "Epoch 129/140\n",
      "2992/2992 [==============================] - 106s 35ms/sample - loss: 9.4463e-05 - val_loss: 2.2552e-05\n",
      "Epoch 130/140\n",
      "2992/2992 [==============================] - 104s 35ms/sample - loss: 9.3920e-05 - val_loss: 1.2932e-05\n",
      "Epoch 131/140\n",
      "2992/2992 [==============================] - 104s 35ms/sample - loss: 1.0103e-04 - val_loss: 9.7713e-06\n",
      "Epoch 132/140\n",
      "2992/2992 [==============================] - 105s 35ms/sample - loss: 1.0899e-04 - val_loss: 1.4254e-05\n",
      "Epoch 133/140\n",
      "2992/2992 [==============================] - 105s 35ms/sample - loss: 1.0401e-04 - val_loss: 1.0215e-05\n",
      "Epoch 134/140\n",
      "2992/2992 [==============================] - 104s 35ms/sample - loss: 1.1067e-04 - val_loss: 1.5429e-05\n",
      "Epoch 135/140\n",
      "2992/2992 [==============================] - 95s 32ms/sample - loss: 1.2502e-04 - val_loss: 1.0580e-05\n",
      "Epoch 136/140\n",
      "2992/2992 [==============================] - 82s 27ms/sample - loss: 9.3568e-05 - val_loss: 9.7748e-06\n",
      "Epoch 137/140\n",
      "2992/2992 [==============================] - 82s 28ms/sample - loss: 9.5884e-05 - val_loss: 1.0765e-05\n",
      "Epoch 138/140\n",
      "2992/2992 [==============================] - 87s 29ms/sample - loss: 1.4519e-04 - val_loss: 1.2491e-05\n",
      "Epoch 139/140\n",
      "2992/2992 [==============================] - 85s 28ms/sample - loss: 9.7905e-05 - val_loss: 9.8572e-06\n",
      "Epoch 140/140\n",
      "2992/2992 [==============================] - 85s 29ms/sample - loss: 9.5912e-05 - val_loss: 1.7446e-05\n"
     ]
    },
    {
     "data": {
      "text/plain": [
       "<tensorflow.python.keras.callbacks.History at 0x1ef1cac3c88>"
      ]
     },
     "execution_count": 20,
     "metadata": {},
     "output_type": "execute_result"
    }
   ],
   "source": [
    "model.fit(X_train, Y_train, validation_data= (X_test, Y_test), epochs= 140, batch_size=75, verbose=1)"
   ]
  },
  {
   "cell_type": "code",
   "execution_count": 21,
   "metadata": {},
   "outputs": [],
   "source": [
    "import tensorflow as tf"
   ]
  },
  {
   "cell_type": "code",
   "execution_count": 22,
   "metadata": {},
   "outputs": [],
   "source": [
    "#Doing the predictions\n",
    "train_predict= model.predict(X_train)\n",
    "test_predict= model.predict(X_test)"
   ]
  },
  {
   "cell_type": "code",
   "execution_count": 23,
   "metadata": {},
   "outputs": [],
   "source": [
    "# transforming back to original , to perform RMSE\n",
    "train_predict= scaler.inverse_transform(train_predict)\n",
    "test_predict= scaler.inverse_transform(test_predict)"
   ]
  },
  {
   "cell_type": "code",
   "execution_count": 24,
   "metadata": {},
   "outputs": [
    {
     "data": {
      "text/plain": [
       "748.2619659943832"
      ]
     },
     "execution_count": 24,
     "metadata": {},
     "output_type": "execute_result"
    }
   ],
   "source": [
    "# Calculating RMSE Performance\n",
    "import math\n",
    "from sklearn.metrics import mean_squared_error\n",
    "math.sqrt(mean_squared_error(Y_train, train_predict))\n"
   ]
  },
  {
   "cell_type": "code",
   "execution_count": 25,
   "metadata": {},
   "outputs": [
    {
     "data": {
      "text/plain": [
       "208.0956261504396"
      ]
     },
     "execution_count": 25,
     "metadata": {},
     "output_type": "execute_result"
    }
   ],
   "source": [
    "math.sqrt(mean_squared_error(Y_test, test_predict))"
   ]
  },
  {
   "cell_type": "code",
   "execution_count": 48,
   "metadata": {},
   "outputs": [
    {
     "data": {
      "image/png": "[encoded data removed]",
      "text/plain": [
       "<Figure size 1440x720 with 1 Axes>"
      ]
     },
     "metadata": {
      "needs_background": "light"
     },
     "output_type": "display_data"
    }
   ],
   "source": [
    "#Plotting the training and testing data\n",
    "look_back= 320 #time stamp\n",
    "#Training data\n",
    "trainPredictPlot= np.empty_like(df1)\n",
    "trainPredictPlot[:, :]= np.nan\n",
    "trainPredictPlot[look_back: len(train_predict)+look_back, :]= train_predict\n",
    "\n",
    "#Test Data\n",
    "testPredictPlot= np.empty_like(df1)\n",
    "testPredictPlot[:, :]= np.nan\n",
    "testPredictPlot[len(train_predict)+(look_back*2) +1: len(df1) -1 , :]= test_predict\n",
    "\n",
    "#Plotting the baseline and predictions\n",
    "\n",
    "plt.plot(scaler.inverse_transform(df1))\n",
    "plt.plot(trainPredictPlot)\n",
    "plt.plot(testPredictPlot)\n",
    "plt.show()\n"
   ]
  },
  {
   "cell_type": "code",
   "execution_count": 73,
   "metadata": {},
   "outputs": [
    {
     "data": {
      "text/plain": [
       "1784"
      ]
     },
     "execution_count": 73,
     "metadata": {},
     "output_type": "execute_result"
    }
   ],
   "source": [
    "len(testData)"
   ]
  },
  {
   "cell_type": "code",
   "execution_count": 75,
   "metadata": {},
   "outputs": [
    {
     "data": {
      "text/plain": [
       "(1, 320)"
      ]
     },
     "execution_count": 75,
     "metadata": {},
     "output_type": "execute_result"
    }
   ],
   "source": [
    "#Now we have to predict the next 30 days\n",
    "x_input=testData[1464:].reshape(1,-1)\n",
    "x_input.shape"
   ]
  },
  {
   "cell_type": "code",
   "execution_count": 76,
   "metadata": {},
   "outputs": [],
   "source": [
    "temp_input=list(x_input)\n",
    "temp_input=temp_input[0].tolist()"
   ]
  },
  {
   "cell_type": "code",
   "execution_count": 78,
   "metadata": {},
   "outputs": [
    {
     "name": "stdout",
     "output_type": "stream",
     "text": [
      "320\n"
     ]
    }
   ],
   "source": [
    "print(len(temp_input))"
   ]
  },
  {
   "cell_type": "code",
   "execution_count": 80,
   "metadata": {},
   "outputs": [
    {
     "name": "stdout",
     "output_type": "stream",
     "text": [
      "0 day input [0.10848491 0.10751049 0.108335   0.10743554 0.10813512 0.10838497\n",
      " 0.10796022 0.10900959 0.1115081  0.11448131 0.1165051  0.11390666\n",
      " 0.11128323 0.10888467 0.11318209 0.11180792 0.11762942 0.11677993\n",
      " 0.11892864 0.12180192 0.12447531 0.1286728  0.13027184 0.13584349\n",
      " 0.13386968 0.1346692  0.1346692  0.13187088 0.13079652 0.13304517\n",
      " 0.14301419 0.13259544 0.13179592 0.13701779 0.13421947 0.13491905\n",
      " 0.13761743 0.13886668 0.13234559 0.13964122 0.13724265 0.12972217\n",
      " 0.13232061 0.1329952  0.13364481 0.13709274 0.14069059 0.14576254\n",
      " 0.14863582 0.14521287 0.14548771 0.14793624 0.15043474 0.15088447\n",
      " 0.14918549 0.15270837 0.15820508 0.17244653 0.15710574 0.15123426\n",
      " 0.15545673 0.15553168 0.15735559 0.15690586 0.15818009 0.15325805\n",
      " 0.15613132 0.16305217 0.15668099 0.16025385 0.16235259 0.1681741\n",
      " 0.16470118 0.16095343 0.15925445 0.15520688 0.15608135 0.15418249\n",
      " 0.14778633 0.14958525 0.15468219 0.15260843 0.15803018 0.16137817\n",
      " 0.16889866 0.16954827 0.16392664 0.1686738  0.16575055 0.17089746\n",
      " 0.16857386 0.17909254 0.17709374 0.1761693  0.1734959  0.16627523\n",
      " 0.16587547 0.16375175 0.16754947 0.16510094 0.16052868 0.16370178\n",
      " 0.15925445 0.16684989 0.16934839 0.17264641 0.17014791 0.16390166\n",
      " 0.1635019  0.15877973 0.148336   0.15645613 0.16495103 0.16192784\n",
      " 0.16325205 0.16085349 0.15970418 0.16237757 0.16734959 0.16285229\n",
      " 0.16165301 0.16275235 0.17172197 0.17412053 0.17282131 0.169998\n",
      " 0.16782431 0.17234659 0.17594443 0.17514491 0.16939836 0.16180292\n",
      " 0.15753048 0.1608285  0.15150909 0.15070957 0.15060963 0.14648711\n",
      " 0.14276434 0.13706776 0.14019089 0.143339   0.13979113 0.13147112\n",
      " 0.13129622 0.14326404 0.14286428 0.13691785 0.13444433 0.11658005\n",
      " 0.11920348 0.11722966 0.11043374 0.11040875 0.1138317  0.1195033\n",
      " 0.12270138 0.11937837 0.120003   0.13024685 0.12707376 0.13207076\n",
      " 0.12582451 0.12584949 0.12340096 0.11605537 0.1228263  0.12677394\n",
      " 0.12929742 0.13197082 0.12929742 0.12589946 0.12597442 0.1271737\n",
      " 0.12714871 0.12539976 0.12589946 0.11897861 0.11548071 0.1158305\n",
      " 0.12065261 0.11902858 0.12664901 0.13756746 0.1448381  0.1369928\n",
      " 0.13769238 0.1376674  0.13956626 0.14778633 0.14961023 0.1478363\n",
      " 0.14948531 0.14901059 0.1526584  0.1558315  0.1538327  0.1538327\n",
      " 0.15580652 0.155007   0.15370778 0.15415751 0.15198381 0.1560064\n",
      " 0.15340796 0.16035379 0.16347691 0.16255247 0.16245253 0.15947931\n",
      " 0.16387667 0.16487607 0.16487607 0.16225265 0.16040376 0.15845493\n",
      " 0.15625625 0.15530682 0.15825505 0.16342694 0.16277733 0.16460124\n",
      " 0.16217769 0.16230262 0.16642514 0.16525085 0.16507595 0.16387667\n",
      " 0.17389566 0.18611333 0.17841795 0.17904257 0.18071657 0.18321507\n",
      " 0.18603838 0.18311513 0.18334    0.18241555 0.18746252 0.19380871\n",
      " 0.19845593 0.19620728 0.19805617 0.19368379 0.19885569 0.19908055\n",
      " 0.1980062  0.19748151 0.19803118 0.20272836 0.20675095 0.20947432\n",
      " 0.211673   0.20907456 0.2078253  0.20122926 0.20497701 0.20770038\n",
      " 0.21129822 0.21474615 0.22546472 0.22229163 0.23156106 0.23131121\n",
      " 0.23490905 0.24058065 0.24138017 0.2385069  0.23703278 0.23680792\n",
      " 0.23438437 0.22371577 0.22593944 0.23553368 0.23670798 0.23443434\n",
      " 0.23028683 0.23028683 0.22126724 0.21072357 0.20445233 0.20954927\n",
      " 0.21289726 0.21811913 0.22501499 0.2228413  0.22044273 0.22161703\n",
      " 0.21944333 0.22059264 0.22214171 0.2169948  0.22359085 0.22274136\n",
      " 0.22611433 0.22591445 0.22521487 0.22156706 0.22241655 0.21959324\n",
      " 0.22806316 0.23868179 0.25542175 0.2643414  0.26256746 0.26224265\n",
      " 0.25639616 0.26194283 0.24335399 0.24330402 0.24595243 0.24078053\n",
      " 0.25607136 0.25984409 0.28263042 0.2711623  0.26259244 0.26519089\n",
      " 0.27081251]\n"
     ]
    },
    {
     "ename": "ValueError",
     "evalue": "cannot reshape array of size 319 into shape (1,320,1)",
     "output_type": "error",
     "traceback": [
      "\u001b[1;31m---------------------------------------------------------------------------\u001b[0m",
      "\u001b[1;31mValueError\u001b[0m                                Traceback (most recent call last)",
      "\u001b[1;32m<ipython-input-80-f98246fa9a67>\u001b[0m in \u001b[0;36m<module>\u001b[1;34m\u001b[0m\n\u001b[0;32m     11\u001b[0m         \u001b[0mprint\u001b[0m\u001b[1;33m(\u001b[0m\u001b[1;34m\"{} day input {}\"\u001b[0m\u001b[1;33m.\u001b[0m\u001b[0mformat\u001b[0m\u001b[1;33m(\u001b[0m\u001b[0mi\u001b[0m\u001b[1;33m,\u001b[0m\u001b[0mx_input\u001b[0m\u001b[1;33m)\u001b[0m\u001b[1;33m)\u001b[0m\u001b[1;33m\u001b[0m\u001b[1;33m\u001b[0m\u001b[0m\n\u001b[0;32m     12\u001b[0m         \u001b[0mx_input\u001b[0m\u001b[1;33m=\u001b[0m\u001b[0mx_input\u001b[0m\u001b[1;33m.\u001b[0m\u001b[0mreshape\u001b[0m\u001b[1;33m(\u001b[0m\u001b[1;36m1\u001b[0m\u001b[1;33m,\u001b[0m\u001b[1;33m-\u001b[0m\u001b[1;36m1\u001b[0m\u001b[1;33m)\u001b[0m\u001b[1;33m\u001b[0m\u001b[1;33m\u001b[0m\u001b[0m\n\u001b[1;32m---> 13\u001b[1;33m         \u001b[0mx_input\u001b[0m \u001b[1;33m=\u001b[0m \u001b[0mx_input\u001b[0m\u001b[1;33m.\u001b[0m\u001b[0mreshape\u001b[0m\u001b[1;33m(\u001b[0m\u001b[1;33m(\u001b[0m\u001b[1;36m1\u001b[0m\u001b[1;33m,\u001b[0m \u001b[0mn_steps\u001b[0m\u001b[1;33m,\u001b[0m \u001b[1;36m1\u001b[0m\u001b[1;33m)\u001b[0m\u001b[1;33m)\u001b[0m\u001b[1;33m\u001b[0m\u001b[1;33m\u001b[0m\u001b[0m\n\u001b[0m\u001b[0;32m     14\u001b[0m         \u001b[1;31m#print(x_input)\u001b[0m\u001b[1;33m\u001b[0m\u001b[1;33m\u001b[0m\u001b[1;33m\u001b[0m\u001b[0m\n\u001b[0;32m     15\u001b[0m         \u001b[0myhat\u001b[0m \u001b[1;33m=\u001b[0m \u001b[0mmodel\u001b[0m\u001b[1;33m.\u001b[0m\u001b[0mpredict\u001b[0m\u001b[1;33m(\u001b[0m\u001b[0mx_input\u001b[0m\u001b[1;33m,\u001b[0m \u001b[0mverbose\u001b[0m\u001b[1;33m=\u001b[0m\u001b[1;36m0\u001b[0m\u001b[1;33m)\u001b[0m\u001b[1;33m\u001b[0m\u001b[1;33m\u001b[0m\u001b[0m\n",
      "\u001b[1;31mValueError\u001b[0m: cannot reshape array of size 319 into shape (1,320,1)"
     ]
    }
   ],
   "source": [
    "from numpy import array\n",
    "\n",
    "lst_output=[]\n",
    "n_steps=320\n",
    "i=0\n",
    "while(i<15):\n",
    "    \n",
    "    if(len(temp_input)>100):\n",
    "        #print(temp_input)\n",
    "        x_input=np.array(temp_input[1:])\n",
    "        print(\"{} day input {}\".format(i,x_input))\n",
    "        x_input=x_input.reshape(1,-1)\n",
    "        x_input = x_input.reshape((1, n_steps, 1))\n",
    "        #print(x_input)\n",
    "        yhat = model.predict(x_input, verbose=0)\n",
    "        print(\"{} day output {}\".format(i,yhat))\n",
    "        temp_input.extend(yhat[0].tolist())\n",
    "        temp_input=temp_input[1:]\n",
    "        #print(temp_input)\n",
    "        lst_output.extend(yhat.tolist())\n",
    "        i=i+1\n",
    "    else:\n",
    "        x_input = x_input.reshape((1, n_steps,1))\n",
    "        yhat = model.predict(x_input, verbose=0)\n",
    "        print(yhat[0])\n",
    "        temp_input.extend(yhat[0].tolist())\n",
    "        print(len(temp_input))\n",
    "        lst_output.extend(yhat.tolist())\n",
    "        i=i+1\n",
    "    \n",
    "\n",
    "print(lst_output)\n"
   ]
  },
  {
   "cell_type": "code",
   "execution_count": null,
   "metadata": {},
   "outputs": [],
   "source": []
  }
 ],
 "metadata": {
  "kernelspec": {
   "display_name": "Python 3.7.4 64-bit",
   "language": "python",
   "name": "python_defaultSpec_1594481032841"
  },
  "language_info": {
   "codemirror_mode": {
    "name": "ipython",
    "version": 3
   },
   "file_extension": ".py",
   "mimetype": "text/x-python",
   "name": "python",
   "nbconvert_exporter": "python",
   "pygments_lexer": "ipython3",
   "version": "3.7.4-final"
  }
 },
 "nbformat": 4,
 "nbformat_minor": 2
}